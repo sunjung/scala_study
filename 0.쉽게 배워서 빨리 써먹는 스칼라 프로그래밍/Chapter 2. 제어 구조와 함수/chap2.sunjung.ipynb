{
 "cells": [
  {
   "cell_type": "markdown",
   "metadata": {},
   "source": [
    "# chap2 제어 구조와 함수"
   ]
  },
  {
   "cell_type": "markdown",
   "metadata": {
    "collapsed": true
   },
   "source": [
    "## 2.1 조건식"
   ]
  },
  {
   "cell_type": "markdown",
   "metadata": {},
   "source": [
    "스칼라에서는 조건식은 값을 가진다."
   ]
  },
  {
   "cell_type": "code",
   "execution_count": 122,
   "metadata": {
    "collapsed": false
   },
   "outputs": [
    {
     "data": {
      "text/plain": [
       "\u001b[36mres121\u001b[0m: \u001b[32mInt\u001b[0m = \u001b[32m-1\u001b[0m"
      ]
     },
     "metadata": {},
     "output_type": "display_data"
    }
   ],
   "source": [
    "if( -2 > 0 ) 1 else -1"
   ]
  },
  {
   "cell_type": "markdown",
   "metadata": {
    "collapsed": false
   },
   "source": [
    "위는 아래와 동일한 효과가 있다."
   ]
  },
  {
   "cell_type": "code",
   "execution_count": 123,
   "metadata": {
    "collapsed": false
   },
   "outputs": [
    {
     "data": {
      "text/plain": [
       "\u001b[36ms\u001b[0m: \u001b[32mInt\u001b[0m = \u001b[32m-1\u001b[0m"
      ]
     },
     "metadata": {},
     "output_type": "display_data"
    }
   ],
   "source": [
    "var s = 0\n",
    "if(-2> 0) s = 1 else s = -1"
   ]
  },
  {
   "cell_type": "code",
   "execution_count": 124,
   "metadata": {
    "collapsed": false
   },
   "outputs": [
    {
     "data": {
      "text/plain": [
       "\u001b[36mres123\u001b[0m: \u001b[32mInt\u001b[0m = \u001b[32m-1\u001b[0m"
      ]
     },
     "metadata": {},
     "output_type": "display_data"
    }
   ],
   "source": [
    "s"
   ]
  },
  {
   "cell_type": "markdown",
   "metadata": {},
   "source": [
    "스칼라에서는 조건문 분기 값이 다른 타입을 가질경우, 조건문의 값은 공통 슈퍼타입이 된다."
   ]
  },
  {
   "cell_type": "code",
   "execution_count": 125,
   "metadata": {
    "collapsed": false
   },
   "outputs": [
    {
     "data": {
      "text/plain": [
       "\u001b[36mres124\u001b[0m: \u001b[32mAny\u001b[0m = positivie"
      ]
     },
     "metadata": {},
     "output_type": "display_data"
    }
   ],
   "source": [
    "if( 3 > 0 ) \"positivie\" else -1"
   ]
  },
  {
   "cell_type": "markdown",
   "metadata": {},
   "source": [
    "스칼라에서는 모든 식이 어떤 값을 가지도록 되어 있다. 만약 조건분기에 해당하는 값이 없으면 ()로 표기되는 하나의 값을 가진 Unit 클래스를 도입한다.\n",
    "()는 \"쓸모 있는 값이 없음\" 으로 생각하고, Unit는 자바나 C++의 void로 생각하면 된다."
   ]
  },
  {
   "cell_type": "code",
   "execution_count": 126,
   "metadata": {
    "collapsed": false
   },
   "outputs": [
    {
     "data": {
      "text/plain": [
       "\u001b[36mres125\u001b[0m: \u001b[32mAnyVal\u001b[0m = 1"
      ]
     },
     "metadata": {},
     "output_type": "display_data"
    }
   ],
   "source": [
    "if ( 3 > 0 ) 1"
   ]
  },
  {
   "cell_type": "code",
   "execution_count": 127,
   "metadata": {
    "collapsed": false
   },
   "outputs": [
    {
     "data": {
      "text/plain": [
       "\u001b[36mres126\u001b[0m: \u001b[32mAnyVal\u001b[0m = ()"
      ]
     },
     "metadata": {},
     "output_type": "display_data"
    }
   ],
   "source": [
    "if (-1 > 0) 1 else ()"
   ]
  },
  {
   "cell_type": "markdown",
   "metadata": {},
   "source": [
    "기술적으로 엄밀히 말하면 void는 값이 없고, Unit는 \"값 없음\"을 뜻하는 하나의 값을 가진다.\n",
    "꼭 필요하면 빈 지갑과 \"돈 없음\" 이라고 적힌 종이 한잘이 들어있는 지갑을 생각하기 바란다."
   ]
  },
  {
   "cell_type": "markdown",
   "metadata": {},
   "source": [
    "## 2.2 문종료"
   ]
  },
  {
   "cell_type": "markdown",
   "metadata": {
    "collapsed": true
   },
   "source": [
    "문장이 줄 끝에 도달 할 경우 세미콜론은 생략할 수 있다.\n",
    "}, else 등 맥락상 문의 끝에 도달했음을 명확히 알 수 있는 위치에서도 생략 할 수 있다.\n",
    "세미콜론은 아래와 같이 한줄에 여러문을 넣고 싶을 때 사용한다."
   ]
  },
  {
   "cell_type": "code",
   "execution_count": 128,
   "metadata": {
    "collapsed": false
   },
   "outputs": [
    {
     "data": {
      "text/plain": [
       "\u001b[36mres127\u001b[0m: \u001b[32mAnyVal\u001b[0m = -2"
      ]
     },
     "metadata": {},
     "output_type": "display_data"
    }
   ],
   "source": [
    "if( 1>0 ){ 3*2; 1-3 }"
   ]
  },
  {
   "cell_type": "markdown",
   "metadata": {},
   "source": [
    "# 2.3 블록식과 할당"
   ]
  },
  {
   "cell_type": "markdown",
   "metadata": {
    "collapsed": true
   },
   "source": [
    "스칼라에서 {} 블록은 일련의 식을 포함하고, 결과도 식이다. 블록의 값은 마지막 식의 값이 된다."
   ]
  },
  {
   "cell_type": "markdown",
   "metadata": {},
   "source": [
    "이기능은 val 초기화가 한 단계 이상 필요할 때 유용한다. 예를 들어."
   ]
  },
  {
   "cell_type": "code",
   "execution_count": 129,
   "metadata": {
    "collapsed": false
   },
   "outputs": [
    {
     "data": {
      "text/plain": [
       "\u001b[32mimport \u001b[36mscala.math._\u001b[0m\n",
       "\u001b[36mx\u001b[0m: \u001b[32mInt\u001b[0m = \u001b[32m0\u001b[0m\n",
       "\u001b[36mx0\u001b[0m: \u001b[32mInt\u001b[0m = \u001b[32m10\u001b[0m\n",
       "\u001b[36my\u001b[0m: \u001b[32mInt\u001b[0m = \u001b[32m0\u001b[0m\n",
       "\u001b[36my0\u001b[0m: \u001b[32mInt\u001b[0m = \u001b[32m10\u001b[0m\n",
       "\u001b[36mdistance\u001b[0m: \u001b[32mDouble\u001b[0m = \u001b[32m14.142135623730951\u001b[0m"
      ]
     },
     "metadata": {},
     "output_type": "display_data"
    }
   ],
   "source": [
    "import scala.math._\n",
    "val x=0\n",
    "val x0=10\n",
    "val y=0\n",
    "val y0=10\n",
    "val distance = { val dx = x - x0; val dy = y - y0; sqrt(dx * dx + dy * dy) }"
   ]
  },
  {
   "cell_type": "markdown",
   "metadata": {},
   "source": [
    "할당은 ()로 표시되는 Unit 타입의 값을 가진다. 자바나 C++의 void 타입과 같다."
   ]
  },
  {
   "cell_type": "code",
   "execution_count": 130,
   "metadata": {
    "collapsed": false
   },
   "outputs": [
    {
     "data": {
      "text/plain": [
       "\u001b[36mr\u001b[0m: \u001b[32mInt\u001b[0m = \u001b[32m15\u001b[0m\n",
       "\u001b[36mn\u001b[0m: \u001b[32mInt\u001b[0m = \u001b[32m4\u001b[0m"
      ]
     },
     "metadata": {},
     "output_type": "display_data"
    }
   ],
   "source": [
    "//  다음과 같이 할당문으로 끝나는 블록은\n",
    "var r = 3\n",
    "var n = 5\n",
    "val a= {r = r * n; n -= 1 }\n"
   ]
  },
  {
   "cell_type": "markdown",
   "metadata": {},
   "source": [
    "\n",
    "# 2.4 입력과 출력"
   ]
  },
  {
   "cell_type": "code",
   "execution_count": 131,
   "metadata": {
    "collapsed": false
   },
   "outputs": [
    {
     "name": "stdout",
     "output_type": "stream",
     "text": [
      "AnswerAnswer\n",
      "Answer\n",
      "Answer\n",
      "Hello sunjung! 1 2 3 4 5         , BOM!!"
     ]
    },
    {
     "data": {
      "text/plain": []
     },
     "metadata": {},
     "output_type": "display_data"
    }
   ],
   "source": [
    "print(\"Answer\")\n",
    "println(\"Answer\")\n",
    "println(\"Answer\")\n",
    "println(\"Answer\")\n",
    "printf(\"Hello %s! %d %d %d %d %-10d, BOM!!\", \"sunjung\",1 ,2 ,3 ,4 ,5 )"
   ]
  },
  {
   "cell_type": "code",
   "execution_count": 132,
   "metadata": {
    "collapsed": false
   },
   "outputs": [
    {
     "name": "stdout",
     "output_type": "stream",
     "text": [
      "Your name Your age : "
     ]
    },
    {
     "ename": "",
     "evalue": "",
     "output_type": "error",
     "traceback": [
      "java.io.EOFException: Console has reached end of input (Console has reached end of input)",
      "  scala.io.StdIn$class.readInt(StdIn.scala:108)",
      "  scala.io.StdIn$.readInt(StdIn.scala:229)",
      "  scala.DeprecatedPredef$class.readInt(Predef.scala:440)",
      "  scala.Predef$.readInt(Predef.scala:70)",
      "  cmd131$$user$$anonfun$2.apply$mcI$sp(Main.scala:30)"
     ]
    }
   ],
   "source": [
    "// jupyter 로는 수행되지 않음.\n",
    "// 터미널에서 스칼라 실행 후 테스트 하면됨.\n",
    "// readLine은 arg를 받고 radInt는 arg가 없는게 특이함.\n",
    "// brew install scala\n",
    "// scala\n",
    "\n",
    "val name = readLine(\"Your name \")\n",
    "print(\"Your age : \");\n",
    "val age = readInt();\n",
    "printf( \"Hi~ %s~ your age is %d.\", name, age )"
   ]
  },
  {
   "cell_type": "markdown",
   "metadata": {},
   "source": [
    "# 2.5 루프"
   ]
  },
  {
   "cell_type": "markdown",
   "metadata": {},
   "source": [
    "스칼라는 자바와 C++과 동일한 while와 do 루프를 갖고 있다. 예를 들어,"
   ]
  },
  {
   "cell_type": "code",
   "execution_count": 133,
   "metadata": {
    "collapsed": false
   },
   "outputs": [
    {
     "name": "stdout",
     "output_type": "stream",
     "text": [
      "10 990 8720 75040 630240 5151200 4604800 31814400 23628800 13628800 0"
     ]
    },
    {
     "data": {
      "text/plain": [
       "\u001b[36mn\u001b[0m: \u001b[32mInt\u001b[0m = \u001b[32m0\u001b[0m\n",
       "\u001b[36mr\u001b[0m: \u001b[32mInt\u001b[0m = \u001b[32m3628800\u001b[0m"
      ]
     },
     "metadata": {},
     "output_type": "display_data"
    }
   ],
   "source": [
    "var n=10\n",
    "var r=1\n",
    "while(n > 0){\n",
    "    r=r*n\n",
    "    n-=1\n",
    "    print(r + \" \" + n)\n",
    "}"
   ]
  },
  {
   "cell_type": "markdown",
   "metadata": {},
   "source": [
    "스칼라는 for(initialize;test;update) 에 상을하는 것을 가지고 있지 않다(!! 이런!!)"
   ]
  },
  {
   "cell_type": "markdown",
   "metadata": {},
   "source": [
    "그런 루프가 필요하면, while 루프를 사용하거나 다음과 같은 문을 사용한다.\n",
    "```\n",
    "for(i<-1 to n)\n",
    "    r = r * i\n",
    "```"
   ]
  },
  {
   "cell_type": "markdown",
   "metadata": {},
   "source": [
    "0 ~ (n-1) 범위를 돌고 싶으면 until을 사용한다."
   ]
  },
  {
   "cell_type": "code",
   "execution_count": 134,
   "metadata": {
    "collapsed": false
   },
   "outputs": [
    {
     "name": "stdout",
     "output_type": "stream",
     "text": [
      "01234"
     ]
    },
    {
     "data": {
      "text/plain": [
       "\u001b[36ms\u001b[0m: \u001b[32mString\u001b[0m = \u001b[32m\"Hello\"\u001b[0m\n",
       "\u001b[36msum\u001b[0m: \u001b[32mInt\u001b[0m = \u001b[32m500\u001b[0m"
      ]
     },
     "metadata": {},
     "output_type": "display_data"
    }
   ],
   "source": [
    "val s = \"Hello\"\n",
    "var sum = 0\n",
    "for(i <- 0 until s.length){ // Last Value for i is s.length - 1\n",
    "    print (i)\n",
    "    sum += s(i)\n",
    "}\n",
    "    "
   ]
  },
  {
   "cell_type": "code",
   "execution_count": 135,
   "metadata": {
    "collapsed": false
   },
   "outputs": [
    {
     "name": "stdout",
     "output_type": "stream",
     "text": [
      "H\n",
      "e\n",
      "l\n",
      "l\n",
      "o\n"
     ]
    },
    {
     "data": {
      "text/plain": [
       "\u001b[36msum\u001b[0m: \u001b[32mInt\u001b[0m = \u001b[32m500\u001b[0m"
      ]
     },
     "metadata": {},
     "output_type": "display_data"
    }
   ],
   "source": [
    "var sum = 0\n",
    "for (ch <- \"Hello\"){ \n",
    "    sum +=ch\n",
    "    println (ch)\n",
    "}"
   ]
  },
  {
   "cell_type": "markdown",
   "metadata": {},
   "source": [
    "# 2.6 고급 for 루프와 for  컴프리헨션"
   ]
  },
  {
   "cell_type": "markdown",
   "metadata": {
    "collapsed": true
   },
   "source": [
    "#### 자바나 c++에 비해 스칼라가 훨씬 강력한 for 구문을 가지고 있다.\n",
    "#### variable <- expression 형태의 여러 제너레이터를 가질 수 있다. 제너레이터는 세미콜론으로 구분한다."
   ]
  },
  {
   "cell_type": "code",
   "execution_count": 136,
   "metadata": {
    "collapsed": false
   },
   "outputs": [
    {
     "name": "stdout",
     "output_type": "stream",
     "text": [
      "(0,0)(0,1)(0,2)(0,3)(0,4)(0,5)(0,6)(0,7)(0,8)(0,9)\n",
      "(1,0)(1,1)(1,2)(1,3)(1,4)(1,5)(1,6)(1,7)(1,8)(1,9)\n",
      "(2,0)(2,1)(2,2)(2,3)(2,4)(2,5)(2,6)(2,7)(2,8)(2,9)\n",
      "(3,0)(3,1)(3,2)(3,3)(3,4)(3,5)(3,6)(3,7)(3,8)(3,9)\n",
      "(4,0)(4,1)(4,2)(4,3)(4,4)(4,5)(4,6)(4,7)(4,8)(4,9)\n",
      "(5,0)(5,1)(5,2)(5,3)(5,4)(5,5)(5,6)(5,7)(5,8)(5,9)\n",
      "(6,0)(6,1)(6,2)(6,3)(6,4)(6,5)(6,6)(6,7)(6,8)(6,9)\n",
      "(7,0)(7,1)(7,2)(7,3)(7,4)(7,5)(7,6)(7,7)(7,8)(7,9)\n",
      "(8,0)(8,1)(8,2)(8,3)(8,4)(8,5)(8,6)(8,7)(8,8)(8,9)\n",
      "(9,0)(9,1)(9,2)(9,3)(9,4)(9,5)(9,6)(9,7)(9,8)(9,9)\n"
     ]
    },
    {
     "data": {
      "text/plain": []
     },
     "metadata": {},
     "output_type": "display_data"
    }
   ],
   "source": [
    "for(i<-0 until 10;j<-0 until 10){ \n",
    "    print(i , j) \n",
    "    if(j == 9) \n",
    "        print(\"\\n\") \n",
    "}"
   ]
  },
  {
   "cell_type": "markdown",
   "metadata": {},
   "source": [
    "#### 각 제너레이터는 if 위에 오는 이진 조건인 가드를 가질 수 있다."
   ]
  },
  {
   "cell_type": "code",
   "execution_count": 137,
   "metadata": {
    "collapsed": false
   },
   "outputs": [
    {
     "name": "stdout",
     "output_type": "stream",
     "text": [
      "(0,1)(0,2)(0,3)(0,4)(0,5)(0,6)(0,7)(0,8)(0,9)\n",
      "(1,0)(1,2)(1,3)(1,4)(1,5)(1,6)(1,7)(1,8)(1,9)\n",
      "(2,0)(2,1)(2,3)(2,4)(2,5)(2,6)(2,7)(2,8)(2,9)\n",
      "(3,0)(3,1)(3,2)(3,4)(3,5)(3,6)(3,7)(3,8)(3,9)\n",
      "(4,0)(4,1)(4,2)(4,3)(4,5)(4,6)(4,7)(4,8)(4,9)\n",
      "(5,0)(5,1)(5,2)(5,3)(5,4)(5,6)(5,7)(5,8)(5,9)\n",
      "(6,0)(6,1)(6,2)(6,3)(6,4)(6,5)(6,7)(6,8)(6,9)\n",
      "(7,0)(7,1)(7,2)(7,3)(7,4)(7,5)(7,6)(7,8)(7,9)\n",
      "(8,0)(8,1)(8,2)(8,3)(8,4)(8,5)(8,6)(8,7)(8,9)\n",
      "(9,0)(9,1)(9,2)(9,3)(9,4)(9,5)(9,6)(9,7)(9,8)"
     ]
    },
    {
     "data": {
      "text/plain": []
     },
     "metadata": {},
     "output_type": "display_data"
    }
   ],
   "source": [
    "for(i<-0 until 10; j<-0 until 10; if i != j){ \n",
    "    print(i , j) \n",
    "    if(j == 9) \n",
    "        print(\"\\n\") \n",
    "}"
   ]
  },
  {
   "cell_type": "markdown",
   "metadata": {},
   "source": [
    "### for 루프의 바디가 yield 로 시작하면, 각 반복마다 하나의 값으로 값의 콜렉션을 생성한다.\n",
    "#### yield , 일반적으로 함수의 return.\n",
    "### 이런 루프 타입을 for 컴프리헨션이라고 부른다."
   ]
  },
  {
   "cell_type": "code",
   "execution_count": 138,
   "metadata": {
    "collapsed": false
   },
   "outputs": [
    {
     "data": {
      "text/plain": [
       "\u001b[36mvec\u001b[0m: \u001b[32mcollection\u001b[0m.\u001b[32mimmutable\u001b[0m.\u001b[32mIndexedSeq\u001b[0m[\u001b[32mInt\u001b[0m] = \u001b[33mVector\u001b[0m(\u001b[32m1\u001b[0m, \u001b[32m2\u001b[0m, \u001b[32m3\u001b[0m, \u001b[32m4\u001b[0m, \u001b[32m5\u001b[0m, \u001b[32m6\u001b[0m, \u001b[32m7\u001b[0m, \u001b[32m8\u001b[0m, \u001b[32m9\u001b[0m, \u001b[32m10\u001b[0m)"
      ]
     },
     "metadata": {},
     "output_type": "display_data"
    }
   ],
   "source": [
    "var vec = { for( i <- 1 to 10) yield i }"
   ]
  },
  {
   "cell_type": "code",
   "execution_count": 139,
   "metadata": {
    "collapsed": false
   },
   "outputs": [
    {
     "data": {
      "text/plain": [
       "\u001b[36mres138\u001b[0m: \u001b[32mcollection\u001b[0m.\u001b[32mimmutable\u001b[0m.\u001b[32mIndexedSeq\u001b[0m[\u001b[32mInt\u001b[0m] = \u001b[33mVector\u001b[0m(\u001b[32m1\u001b[0m, \u001b[32m2\u001b[0m, \u001b[32m3\u001b[0m)"
      ]
     },
     "metadata": {},
     "output_type": "display_data"
    }
   ],
   "source": [
    "vec.take(3)"
   ]
  },
  {
   "cell_type": "markdown",
   "metadata": {},
   "source": [
    "### 생성된 콜렉션은 첫 번째 제너레이터와 호환된다."
   ]
  },
  {
   "cell_type": "code",
   "execution_count": 140,
   "metadata": {
    "collapsed": false
   },
   "outputs": [
    {
     "data": {
      "text/plain": [
       "\u001b[36mres139\u001b[0m: \u001b[32mString\u001b[0m = \u001b[32m\"HIeflmlmop\"\u001b[0m"
      ]
     },
     "metadata": {},
     "output_type": "display_data"
    }
   ],
   "source": [
    " for( c <- \"Hello\"; i<- 0 to 1)\n",
    "    yield(c+i).toChar"
   ]
  },
  {
   "cell_type": "code",
   "execution_count": 141,
   "metadata": {
    "collapsed": false
   },
   "outputs": [
    {
     "data": {
      "text/plain": [
       "\u001b[36mres140\u001b[0m: \u001b[32mcollection\u001b[0m.\u001b[32mimmutable\u001b[0m.\u001b[32mIndexedSeq\u001b[0m[\u001b[32mChar\u001b[0m] = \u001b[33mVector\u001b[0m(\u001b[32m'H'\u001b[0m, \u001b[32m'e'\u001b[0m, \u001b[32m'l'\u001b[0m, \u001b[32m'l'\u001b[0m, \u001b[32m'o'\u001b[0m, \u001b[32m'I'\u001b[0m, \u001b[32m'f'\u001b[0m, \u001b[32m'm'\u001b[0m, \u001b[32m'm'\u001b[0m, \u001b[32m'p'\u001b[0m)"
      ]
     },
     "metadata": {},
     "output_type": "display_data"
    }
   ],
   "source": [
    "for(i<-0 to 1; c<-\"Hello\")\n",
    "    yield(c+i).toChar"
   ]
  },
  {
   "cell_type": "markdown",
   "metadata": {},
   "source": [
    "### 선호에 따라 for 루프 제너레이터. 가드, 정의를 중괄호 안에 넣을 수도 있다.\n",
    "### 구분을 위해서 세미콜론 대신 새줄을 사용 할 수 있다."
   ]
  },
  {
   "cell_type": "code",
   "execution_count": 142,
   "metadata": {
    "collapsed": false
   },
   "outputs": [
    {
     "name": "stdout",
     "output_type": "stream",
     "text": [
      "(1,1,1)\n",
      "(1,2,1)\n",
      "(1,3,1)\n",
      "(1,4,1)\n",
      "(1,5,1)\n",
      "(2,2,2)\n",
      "(2,3,2)\n",
      "(2,4,2)\n",
      "(2,5,2)\n",
      "(3,3,3)\n",
      "(3,4,3)\n",
      "(3,5,3)\n"
     ]
    },
    {
     "data": {
      "text/plain": []
     },
     "metadata": {},
     "output_type": "display_data"
    }
   ],
   "source": [
    "for {\n",
    "        i <- 1 to 3\n",
    "        from = i\n",
    "        j <- from to 5\n",
    "    }\n",
    "{\n",
    "    print (i, j, from)\n",
    "    print (\"\\n\")\n",
    "}"
   ]
  },
  {
   "cell_type": "markdown",
   "metadata": {},
   "source": [
    "# 2.7 함수"
   ]
  },
  {
   "cell_type": "code",
   "execution_count": 143,
   "metadata": {
    "collapsed": false
   },
   "outputs": [
    {
     "data": {
      "text/plain": [
       "defined \u001b[32mfunction \u001b[36mabs\u001b[0m"
      ]
     },
     "metadata": {},
     "output_type": "display_data"
    }
   ],
   "source": [
    "def abs(x:Double) = if ( x >= 0 ) x else -x"
   ]
  },
  {
   "cell_type": "code",
   "execution_count": 144,
   "metadata": {
    "collapsed": false
   },
   "outputs": [
    {
     "data": {
      "text/plain": [
       "\u001b[36mres143\u001b[0m: \u001b[32mDouble\u001b[0m = \u001b[32m3.0\u001b[0m"
      ]
     },
     "metadata": {},
     "output_type": "display_data"
    }
   ],
   "source": [
    "abs(-3)"
   ]
  },
  {
   "cell_type": "code",
   "execution_count": 145,
   "metadata": {
    "collapsed": false
   },
   "outputs": [
    {
     "data": {
      "text/plain": [
       "\u001b[36mres144\u001b[0m: \u001b[32mDouble\u001b[0m = \u001b[32m3.0\u001b[0m"
      ]
     },
     "metadata": {},
     "output_type": "display_data"
    }
   ],
   "source": [
    "abs(3)"
   ]
  },
  {
   "cell_type": "code",
   "execution_count": 146,
   "metadata": {
    "collapsed": false
   },
   "outputs": [
    {
     "data": {
      "text/plain": [
       "defined \u001b[32mfunction \u001b[36mfac\u001b[0m"
      ]
     },
     "metadata": {},
     "output_type": "display_data"
    }
   ],
   "source": [
    "def fac(n:Int) = {\n",
    "    var r=1\n",
    "    for(i<-1 to n) r=r*i\n",
    "    r\n",
    "}"
   ]
  },
  {
   "cell_type": "code",
   "execution_count": 147,
   "metadata": {
    "collapsed": false
   },
   "outputs": [
    {
     "data": {
      "text/plain": [
       "\u001b[36mres146\u001b[0m: \u001b[32mInt\u001b[0m = \u001b[32m3628800\u001b[0m"
      ]
     },
     "metadata": {},
     "output_type": "display_data"
    }
   ],
   "source": [
    "fac(10)"
   ]
  },
  {
   "cell_type": "markdown",
   "metadata": {},
   "source": [
    "#### 이름있는 함수 에서 return 을 사용하는 것을 문제가 없지만,\n",
    "### return 을 사용하지 않는 삶에 익숙해지면 좋다.\n",
    "#### 조만간, 익명함수를 사용하게 될 텐데. return은 호출자에 값을 리턴하지 않는다. \n",
    "#### 바깥쪽의 이름 있는 함수에서 빠져나온다.\n",
    "#### return을 함수에서 사용하는 break 문의 일종으로 생각하고 이런 기능이 필요할 때만 사용하길 바란다."
   ]
  },
  {
   "cell_type": "code",
   "execution_count": 148,
   "metadata": {
    "collapsed": false
   },
   "outputs": [
    {
     "data": {
      "text/plain": [
       "defined \u001b[32mfunction \u001b[36mfac\u001b[0m"
      ]
     },
     "metadata": {},
     "output_type": "display_data"
    }
   ],
   "source": [
    "// 재귀 함수에서는 반드시 리턴을 명시해야 한다.\n",
    "def fac(n:Int): Int = if (n <= 0) 1 else n * fac(n-1)"
   ]
  },
  {
   "cell_type": "code",
   "execution_count": 149,
   "metadata": {
    "collapsed": false
   },
   "outputs": [
    {
     "data": {
      "text/plain": [
       "\u001b[36mres148\u001b[0m: \u001b[32mInt\u001b[0m = \u001b[32m120\u001b[0m"
      ]
     },
     "metadata": {},
     "output_type": "display_data"
    }
   ],
   "source": [
    "fac(5)"
   ]
  },
  {
   "cell_type": "markdown",
   "metadata": {},
   "source": [
    "# 2.8 기본 인자와 이름 인자"
   ]
  },
  {
   "cell_type": "markdown",
   "metadata": {},
   "source": [
    "### 명시적으로 값을 지정하지 않았을 때 사용하도록 함수에 기본 인자를 줄 수 있다."
   ]
  },
  {
   "cell_type": "code",
   "execution_count": 150,
   "metadata": {
    "collapsed": false
   },
   "outputs": [
    {
     "data": {
      "text/plain": [
       "defined \u001b[32mfunction \u001b[36mdecorate\u001b[0m"
      ]
     },
     "metadata": {},
     "output_type": "display_data"
    }
   ],
   "source": [
    "def decorate(str: String, left:String =\"[\", right:String=\"]\")=left + str + right"
   ]
  },
  {
   "cell_type": "code",
   "execution_count": 151,
   "metadata": {
    "collapsed": false
   },
   "outputs": [
    {
     "data": {
      "text/plain": [
       "\u001b[36mres150\u001b[0m: \u001b[32mString\u001b[0m = \u001b[32m\"[[sunjung]]\"\u001b[0m"
      ]
     },
     "metadata": {},
     "output_type": "display_data"
    }
   ],
   "source": [
    "decorate(decorate(\"sunjung\"))"
   ]
  },
  {
   "cell_type": "markdown",
   "metadata": {},
   "source": [
    "### 인자보다 적은 인자를 주면 앞에서부터 값이 적용된다."
   ]
  },
  {
   "cell_type": "code",
   "execution_count": 152,
   "metadata": {
    "collapsed": false
   },
   "outputs": [
    {
     "data": {
      "text/plain": [
       "\u001b[36mres151\u001b[0m: \u001b[32mString\u001b[0m = \u001b[32m\">>>hello]\"\u001b[0m"
      ]
     },
     "metadata": {},
     "output_type": "display_data"
    }
   ],
   "source": [
    "decorate(\"hello\", \">>>\")"
   ]
  },
  {
   "cell_type": "markdown",
   "metadata": {},
   "source": [
    "### 인자를 넘길때 인자 이름을 지정할 수도 있다."
   ]
  },
  {
   "cell_type": "code",
   "execution_count": 153,
   "metadata": {
    "collapsed": false
   },
   "outputs": [
    {
     "data": {
      "text/plain": [
       "\u001b[36mres152\u001b[0m: \u001b[32mString\u001b[0m = \u001b[32m\"<<<Hello>>>\"\u001b[0m"
      ]
     },
     "metadata": {},
     "output_type": "display_data"
    }
   ],
   "source": [
    "decorate(left=\"<<<\", str=\"Hello\",right=\">>>\")"
   ]
  },
  {
   "cell_type": "markdown",
   "metadata": {},
   "source": [
    "### 이름 인자와 없는 인자를 섞어 쓸 수도 있다."
   ]
  },
  {
   "cell_type": "code",
   "execution_count": 154,
   "metadata": {
    "collapsed": false
   },
   "outputs": [
    {
     "data": {
      "text/plain": [
       "\u001b[36mres153\u001b[0m: \u001b[32mString\u001b[0m = \u001b[32m\"[Hello]<<<\"\u001b[0m"
      ]
     },
     "metadata": {},
     "output_type": "display_data"
    }
   ],
   "source": [
    "decorate(\"Hello\", right=\"]<<<\")"
   ]
  },
  {
   "cell_type": "markdown",
   "metadata": {},
   "source": [
    "# 2.9 가변인자"
   ]
  },
  {
   "cell_type": "code",
   "execution_count": 155,
   "metadata": {
    "collapsed": false
   },
   "outputs": [
    {
     "data": {
      "text/plain": [
       "defined \u001b[32mfunction \u001b[36msum\u001b[0m"
      ]
     },
     "metadata": {},
     "output_type": "display_data"
    }
   ],
   "source": [
    "def sum(args:Int*)={\n",
    "    var result = 0\n",
    "    for(arg <-args)result += arg\n",
    "    result\n",
    "}"
   ]
  },
  {
   "cell_type": "code",
   "execution_count": 156,
   "metadata": {
    "collapsed": false
   },
   "outputs": [
    {
     "data": {
      "text/plain": [
       "\u001b[36mres155\u001b[0m: \u001b[32mInt\u001b[0m = \u001b[32m19\u001b[0m"
      ]
     },
     "metadata": {},
     "output_type": "display_data"
    }
   ],
   "source": [
    "sum(1,4,1,6,7)"
   ]
  },
  {
   "cell_type": "code",
   "execution_count": 156,
   "metadata": {
    "collapsed": false
   },
   "outputs": [
    {
     "ename": "",
     "evalue": "",
     "output_type": "error",
     "traceback": [
      "\u001b[31mMain.scala:25: type mismatch;",
      " found   : scala.collection.immutable.Range.Inclusive",
      " required: Int",
      "sum(1 to 5) ",
      "      ^\u001b[0m"
     ]
    }
   ],
   "source": [
    "val s=sum(1 to 5)"
   ]
  },
  {
   "cell_type": "code",
   "execution_count": 157,
   "metadata": {
    "collapsed": false
   },
   "outputs": [
    {
     "data": {
      "text/plain": [
       "defined \u001b[32mfunction \u001b[36mrecursiveSum\u001b[0m"
      ]
     },
     "metadata": {},
     "output_type": "display_data"
    }
   ],
   "source": [
    "def recursiveSum(args:Int*):Int = {\n",
    "    if(args.length == 0) 0\n",
    "    else args.head + recursiveSum(args.tail : _*)\n",
    "}"
   ]
  },
  {
   "cell_type": "code",
   "execution_count": 158,
   "metadata": {
    "collapsed": false
   },
   "outputs": [
    {
     "data": {
      "text/plain": [
       "\u001b[36mres157\u001b[0m: \u001b[32mInt\u001b[0m = \u001b[32m6\u001b[0m"
      ]
     },
     "metadata": {},
     "output_type": "display_data"
    }
   ],
   "source": [
    "sum(1 to 3:_*)"
   ]
  },
  {
   "cell_type": "code",
   "execution_count": 159,
   "metadata": {
    "collapsed": false
   },
   "outputs": [
    {
     "data": {
      "text/plain": [
       "\u001b[36mres158\u001b[0m: \u001b[32mInt\u001b[0m = \u001b[32m15\u001b[0m"
      ]
     },
     "metadata": {},
     "output_type": "display_data"
    }
   ],
   "source": [
    "recursiveSum(1 to 5:_*)"
   ]
  },
  {
   "cell_type": "markdown",
   "metadata": {},
   "source": [
    "\n",
    "# 2.10 프로시저"
   ]
  },
  {
   "cell_type": "markdown",
   "metadata": {
    "collapsed": true
   },
   "source": [
    "### 함수 바디가 앞에 = 심볼 없이 중괄호 안에 들어 있으면, 리턴 타입은 Unit다. 이런 함수를 프로시저라 부른다."
   ]
  },
  {
   "cell_type": "code",
   "execution_count": 160,
   "metadata": {
    "collapsed": false
   },
   "outputs": [
    {
     "data": {
      "text/plain": [
       "defined \u001b[32mfunction \u001b[36mbox\u001b[0m"
      ]
     },
     "metadata": {},
     "output_type": "display_data"
    }
   ],
   "source": [
    "def box(s : String){ // 자세히 관찰해보면 =이 없다.\n",
    "        val border = \"-\" * s.length +\"--\\n\"\n",
    "        println(border + \"|\" + s +  \"|\" + \"\\n\" + border) \n",
    "}"
   ]
  },
  {
   "cell_type": "code",
   "execution_count": 161,
   "metadata": {
    "collapsed": false
   },
   "outputs": [
    {
     "name": "stdout",
     "output_type": "stream",
     "text": [
      "---------\n",
      "|sunjung|\n",
      "---------\n",
      "\n"
     ]
    },
    {
     "data": {
      "text/plain": []
     },
     "metadata": {},
     "output_type": "display_data"
    }
   ],
   "source": [
    "box(\"sunjung\")"
   ]
  },
  {
   "cell_type": "markdown",
   "metadata": {},
   "source": [
    "# 2.11 레이지 값"
   ]
  },
  {
   "cell_type": "markdown",
   "metadata": {
    "collapsed": true
   },
   "source": [
    "val이 laza로 선언되면, 처음 접근할때까지 초기화가 연기된다. 예를 들어,"
   ]
  },
  {
   "cell_type": "code",
   "execution_count": 162,
   "metadata": {
    "collapsed": false
   },
   "outputs": [
    {
     "data": {
      "text/plain": [
       "\u001b[36mwords\u001b[0m: \u001b[32mString\u001b[0m = \u001b[32m<lazy>\u001b[0m"
      ]
     },
     "metadata": {},
     "output_type": "display_data"
    }
   ],
   "source": [
    "lazy val words = scala.io.Source.fromFile(\"sunjung.txt\").mkString"
   ]
  },
  {
   "cell_type": "code",
   "execution_count": 163,
   "metadata": {
    "collapsed": false
   },
   "outputs": [
    {
     "data": {
      "text/plain": [
       "\u001b[36mres162\u001b[0m: \u001b[32mString\u001b[0m = \u001b[32m\"\"\"\n",
       "sunjung\n",
       "\n",
       "\"\"\"\u001b[0m"
      ]
     },
     "metadata": {},
     "output_type": "display_data"
    }
   ],
   "source": [
    "words"
   ]
  },
  {
   "cell_type": "markdown",
   "metadata": {},
   "source": [
    "# 2.12 예외"
   ]
  },
  {
   "cell_type": "markdown",
   "metadata": {},
   "source": [
    "### 스칼라는 체크예외(exception 의 서버 클래스 이면서 RunTimeException클래스를 상속하지 않은 것들)을 하지 않는다."
   ]
  },
  {
   "cell_type": "code",
   "execution_count": 164,
   "metadata": {
    "collapsed": false
   },
   "outputs": [
    {
     "data": {
      "text/plain": [
       "\u001b[36mx\u001b[0m: \u001b[32mInt\u001b[0m = \u001b[32m-10\u001b[0m"
      ]
     },
     "metadata": {},
     "output_type": "display_data"
    }
   ],
   "source": [
    "var x = -10"
   ]
  },
  {
   "cell_type": "code",
   "execution_count": 165,
   "metadata": {
    "collapsed": false
   },
   "outputs": [
    {
     "ename": "",
     "evalue": "",
     "output_type": "error",
     "traceback": [
      "java.lang.IllegalArgumentException: x should no be negative (x should no be negative)",
      "  cmd164$$user$$anonfun$1.apply$mcD$sp(Main.scala:27)"
     ]
    }
   ],
   "source": [
    "if(x >=0){\n",
    "    Math.sqrt(x)\n",
    "}else throw new IllegalArgumentException(\"x should no be negative\")"
   ]
  },
  {
   "cell_type": "code",
   "execution_count": 166,
   "metadata": {
    "collapsed": false
   },
   "outputs": [
    {
     "name": "stdout",
     "output_type": "stream",
     "text": [
      "sun.net.www.protocol.http.HttpURLConnection$HttpInputStream@6b6e9c3e"
     ]
    },
    {
     "data": {
      "text/plain": [
       "\u001b[36min\u001b[0m: \u001b[32mjava\u001b[0m.\u001b[32mio\u001b[0m.\u001b[32mInputStream\u001b[0m = sun.net.www.protocol.http.HttpURLConnection$HttpInputStream@6b6e9c3e"
      ]
     },
     "metadata": {},
     "output_type": "display_data"
    }
   ],
   "source": [
    "var in = new java.net.URL(\"http://naver.com\").openStream()\n",
    "try{\n",
    "    print(in)\n",
    "}finally{\n",
    "    in.close()\n",
    "}"
   ]
  },
  {
   "cell_type": "markdown",
   "metadata": {},
   "source": [
    "### 예외를 잡는 문법은 패턴 매칭 문법을 따라 만들었다.(14장에서 다시)"
   ]
  },
  {
   "cell_type": "markdown",
   "metadata": {},
   "source": [
    "# 연습문제"
   ]
  },
  {
   "cell_type": "markdown",
   "metadata": {},
   "source": [
    "### 1. 숫자의 signum은 숫자가 양수이면 1, 음수이면 -1, 0 이면 0이다. 이 값을 계산하는 함수를 작성하라"
   ]
  },
  {
   "cell_type": "code",
   "execution_count": 262,
   "metadata": {
    "collapsed": false
   },
   "outputs": [
    {
     "data": {
      "text/plain": [
       "defined \u001b[32mfunction \u001b[36msignum\u001b[0m"
      ]
     },
     "metadata": {},
     "output_type": "display_data"
    }
   ],
   "source": [
    "def signum(num:Int)={\n",
    "    if(num > 0)\n",
    "        1\n",
    "    else if(num <0)\n",
    "        -1\n",
    "    else\n",
    "        0\n",
    "    }\n",
    "    "
   ]
  },
  {
   "cell_type": "code",
   "execution_count": 263,
   "metadata": {
    "collapsed": false
   },
   "outputs": [
    {
     "data": {
      "text/plain": [
       "\u001b[36mres262_0\u001b[0m: \u001b[32mInt\u001b[0m = \u001b[32m-1\u001b[0m\n",
       "\u001b[36mres262_1\u001b[0m: \u001b[32mInt\u001b[0m = \u001b[32m1\u001b[0m\n",
       "\u001b[36mres262_2\u001b[0m: \u001b[32mInt\u001b[0m = \u001b[32m0\u001b[0m"
      ]
     },
     "metadata": {},
     "output_type": "display_data"
    }
   ],
   "source": [
    "signum(-4); signum(10); signum(0)"
   ]
  },
  {
   "cell_type": "markdown",
   "metadata": {},
   "source": [
    "### 2. 빈 블록 {}의 값은 무엇인가? 타입은 무엇인가?"
   ]
  },
  {
   "cell_type": "code",
   "execution_count": 264,
   "metadata": {
    "collapsed": false
   },
   "outputs": [
    {
     "name": "stdout",
     "output_type": "stream",
     "text": [
      "()\n"
     ]
    },
    {
     "data": {
      "text/plain": []
     },
     "metadata": {},
     "output_type": "display_data"
    }
   ],
   "source": [
    "// 빈 블록의 값은 () 이로 \"값이 없음\"이라는 값이 들어있다. void와는 다르다.\n",
    "println({})"
   ]
  },
  {
   "cell_type": "markdown",
   "metadata": {},
   "source": [
    "### 3. 스칼라에서 x=y=1 할당이 유효한 상황 하나만 말해보라. (힌트:적당한 x 타입을 고른다.)"
   ]
  },
  {
   "cell_type": "code",
   "execution_count": 265,
   "metadata": {
    "collapsed": false
   },
   "outputs": [
    {
     "data": {
      "text/plain": [
       "\u001b[36my\u001b[0m: \u001b[32mInt\u001b[0m = \u001b[32m1\u001b[0m"
      ]
     },
     "metadata": {},
     "output_type": "display_data"
    }
   ],
   "source": [
    "// x 에 값이 없음이 할당된 경우 유효함.\n",
    "var x = {}\n",
    "var y = 2\n",
    "x = y = 1"
   ]
  },
  {
   "cell_type": "markdown",
   "metadata": {},
   "source": [
    "### 4. 자바루프 for(int i=10; i >=0l i--) System.out.println(i); 와 동일한 스칼라 코드를 작성하라"
   ]
  },
  {
   "cell_type": "code",
   "execution_count": 266,
   "metadata": {
    "collapsed": false
   },
   "outputs": [
    {
     "name": "stdout",
     "output_type": "stream",
     "text": [
      " 10  9  8  7  6  5  4  3  2  1  0"
     ]
    },
    {
     "data": {
      "text/plain": []
     },
     "metadata": {},
     "output_type": "display_data"
    }
   ],
   "source": [
    "// 방법1 새로운 변수 지정\n",
    "for (i <- 0 to 10; from = 10 - i){\n",
    "    printf(\"%3d\", from)\n",
    "}"
   ]
  },
  {
   "cell_type": "code",
   "execution_count": 267,
   "metadata": {
    "collapsed": false
   },
   "outputs": [
    {
     "data": {
      "text/plain": [
       "\u001b[36mres266\u001b[0m: \u001b[32mRange\u001b[0m = \u001b[33mRange\u001b[0m(\u001b[32m10\u001b[0m, \u001b[32m9\u001b[0m, \u001b[32m8\u001b[0m, \u001b[32m7\u001b[0m, \u001b[32m6\u001b[0m, \u001b[32m5\u001b[0m, \u001b[32m4\u001b[0m, \u001b[32m3\u001b[0m, \u001b[32m2\u001b[0m, \u001b[32m1\u001b[0m)"
      ]
     },
     "metadata": {},
     "output_type": "display_data"
    }
   ],
   "source": [
    "10.until(0,-1)"
   ]
  },
  {
   "cell_type": "code",
   "execution_count": 268,
   "metadata": {
    "collapsed": false
   },
   "outputs": [
    {
     "data": {
      "text/plain": [
       "\u001b[36mres267\u001b[0m: \u001b[32mcollection\u001b[0m.\u001b[32mimmutable\u001b[0m.\u001b[32mRange\u001b[0m.\u001b[32mInclusive\u001b[0m = \u001b[33mRange\u001b[0m(\u001b[32m10\u001b[0m, \u001b[32m9\u001b[0m, \u001b[32m8\u001b[0m, \u001b[32m7\u001b[0m, \u001b[32m6\u001b[0m, \u001b[32m5\u001b[0m, \u001b[32m4\u001b[0m, \u001b[32m3\u001b[0m, \u001b[32m2\u001b[0m, \u001b[32m1\u001b[0m, \u001b[32m0\u001b[0m)"
      ]
     },
     "metadata": {},
     "output_type": "display_data"
    }
   ],
   "source": [
    "10.to(0,-1)"
   ]
  },
  {
   "cell_type": "code",
   "execution_count": 269,
   "metadata": {
    "collapsed": false
   },
   "outputs": [
    {
     "name": "stdout",
     "output_type": "stream",
     "text": [
      " 10  9  8  7  6  5  4  3  2  1  0"
     ]
    },
    {
     "data": {
      "text/plain": []
     },
     "metadata": {},
     "output_type": "display_data"
    }
   ],
   "source": [
    "// 방법2 range 활용\n",
    "for(i <- 10.to(0,-1)){\n",
    "    printf(\"%3d\", i)\n",
    "}"
   ]
  },
  {
   "cell_type": "markdown",
   "metadata": {},
   "source": [
    "### 5. n 부터 0까지 숫자를 출력하는 countdown(n:int) 프로시저를 작성하라"
   ]
  },
  {
   "cell_type": "code",
   "execution_count": 270,
   "metadata": {
    "collapsed": false
   },
   "outputs": [
    {
     "data": {
      "text/plain": [
       "defined \u001b[32mfunction \u001b[36mcountdown\u001b[0m"
      ]
     },
     "metadata": {},
     "output_type": "display_data"
    }
   ],
   "source": [
    "def countdown(n:Int){\n",
    "    print(\"count down start~\")\n",
    "    for(i<-n.to(0,-1)){\n",
    "        printf(\"%3d\",i)\n",
    "    }\n",
    "}"
   ]
  },
  {
   "cell_type": "code",
   "execution_count": 271,
   "metadata": {
    "collapsed": false
   },
   "outputs": [
    {
     "name": "stdout",
     "output_type": "stream",
     "text": [
      "count down start~ 10  9  8  7  6  5  4  3  2  1  0"
     ]
    },
    {
     "data": {
      "text/plain": []
     },
     "metadata": {},
     "output_type": "display_data"
    }
   ],
   "source": [
    "countdown(10)"
   ]
  },
  {
   "cell_type": "markdown",
   "metadata": {},
   "source": [
    "### 6. 문자열의 모든 문장의 유니코드 코드를 곱하는 for 루프를 작성하라"
   ]
  },
  {
   "cell_type": "code",
   "execution_count": 272,
   "metadata": {
    "collapsed": false
   },
   "outputs": [
    {
     "data": {
      "text/plain": [
       "defined \u001b[32mfunction \u001b[36mcharMulti\u001b[0m"
      ]
     },
     "metadata": {},
     "output_type": "display_data"
    }
   ],
   "source": [
    "def charMulti(str:String)={\n",
    "    var mul:BigInt = 1\n",
    "    for(c <- str){\n",
    "        // println(c.toInt)\n",
    "        mul = mul * c.toInt\n",
    "        // println(mul)\n",
    "    }\n",
    "    mul\n",
    "}"
   ]
  },
  {
   "cell_type": "code",
   "execution_count": 273,
   "metadata": {
    "collapsed": false
   },
   "outputs": [
    {
     "data": {
      "text/plain": [
       "\u001b[36mres272\u001b[0m: \u001b[32mBigInt\u001b[0m = 9415087488"
      ]
     },
     "metadata": {},
     "output_type": "display_data"
    }
   ],
   "source": [
    "charMulti(\"Hello\")"
   ]
  },
  {
   "cell_type": "markdown",
   "metadata": {},
   "source": [
    "### 7. 6번 문제를 루프를 쓰지 않고 풀어보라 (힌트 스칼라독의 StringOps를 살펴본다.)"
   ]
  },
  {
   "cell_type": "code",
   "execution_count": 277,
   "metadata": {
    "collapsed": false
   },
   "outputs": [
    {
     "data": {
      "text/plain": [
       "\u001b[36mstr\u001b[0m: \u001b[32mString\u001b[0m = \u001b[32m\"Hello\"\u001b[0m\n",
       "\u001b[36msum\u001b[0m: \u001b[32mBigInt\u001b[0m = 9415087488\n",
       "\u001b[36mres276_2\u001b[0m: \u001b[32mcollection\u001b[0m.\u001b[32mimmutable\u001b[0m.\u001b[32mIndexedSeq\u001b[0m[\u001b[32mUnit\u001b[0m] = \u001b[33mVector\u001b[0m(\u001b[32m()\u001b[0m, \u001b[32m()\u001b[0m, \u001b[32m()\u001b[0m, \u001b[32m()\u001b[0m, \u001b[32m()\u001b[0m)"
      ]
     },
     "metadata": {},
     "output_type": "display_data"
    }
   ],
   "source": [
    "var str = \"Hello\"\n",
    "var sum:BigInt=1\n",
    "str.map( s => sum *= s)"
   ]
  },
  {
   "cell_type": "markdown",
   "metadata": {},
   "source": [
    "### 8. 6번 문제에서 기술한 바와 같이 곱을 계산하는 product(s:String) 함수를 작성하라."
   ]
  },
  {
   "cell_type": "code",
   "execution_count": 284,
   "metadata": {
    "collapsed": false
   },
   "outputs": [
    {
     "data": {
      "text/plain": [
       "defined \u001b[32mfunction \u001b[36mproduct\u001b[0m"
      ]
     },
     "metadata": {},
     "output_type": "display_data"
    }
   ],
   "source": [
    "def product(s:String)={\n",
    "    var sum:BigInt=1\n",
    "    s.map( s => sum *= s)\n",
    "    sum\n",
    "}"
   ]
  },
  {
   "cell_type": "code",
   "execution_count": 285,
   "metadata": {
    "collapsed": false
   },
   "outputs": [
    {
     "name": "stdout",
     "output_type": "stream",
     "text": [
      "9415087488"
     ]
    },
    {
     "data": {
      "text/plain": []
     },
     "metadata": {},
     "output_type": "display_data"
    }
   ],
   "source": [
    "print(product(\"Hello\"))"
   ]
  },
  {
   "cell_type": "markdown",
   "metadata": {},
   "source": [
    "### 9. 6번 문제의 함수를 재귀 함수로 만들라"
   ]
  },
  {
   "cell_type": "code",
   "execution_count": 45,
   "metadata": {
    "collapsed": false
   },
   "outputs": [
    {
     "data": {
      "text/plain": [
       "defined \u001b[32mfunction \u001b[36mproduct\u001b[0m"
      ]
     },
     "metadata": {},
     "output_type": "display_data"
    }
   ],
   "source": [
    "//var sum:BigInt = 1\n",
    "\n",
    "def product(s:String, sum:BigInt):BigInt = {\n",
    "    if(s.length < 1){\n",
    "        sum\n",
    "    }else {\n",
    "        product(s.drop(1), sum * s.charAt(0) ) ;\n",
    "    }\n",
    "}"
   ]
  },
  {
   "cell_type": "code",
   "execution_count": 46,
   "metadata": {
    "collapsed": false
   },
   "outputs": [
    {
     "data": {
      "text/plain": [
       "\u001b[36mres45\u001b[0m: \u001b[32mBigInt\u001b[0m = 9415087488"
      ]
     },
     "metadata": {},
     "output_type": "display_data"
    }
   ],
   "source": [
    "product(\"Hello\",1)"
   ]
  },
  {
   "cell_type": "markdown",
   "metadata": {},
   "source": [
    "### 10. n은 정수인 X^n을 계산하는 함수를 작성하라. 다음 재귀 정의를 이용하라.\n",
    "- n 이 양의 짝수이고 y=x^(n/2) 이면 x^n = y^2\n",
    "- n 이 양의 홀수이면 x^n=xx^(n-1)\n",
    "- x^0 = 1\n",
    "- n이 음수이면 x^n=1 / x^(-n)\n",
    "### return 문은 사용하지 않는다"
   ]
  },
  {
   "cell_type": "code",
   "execution_count": 86,
   "metadata": {
    "collapsed": false
   },
   "outputs": [
    {
     "data": {
      "text/plain": [
       "defined \u001b[32mfunction \u001b[36mpow\u001b[0m"
      ]
     },
     "metadata": {},
     "output_type": "display_data"
    }
   ],
   "source": [
    "def pow(x:Double, n:Int):Double={\n",
    "    \n",
    "    if( n > 0 && ( n % 2 == 0)){\n",
    "        var y = pow(x, n/2)\n",
    "        y * y\n",
    "    }else if(n > 0 && ( n % 2 == 1)){\n",
    "        x * pow(x, n-1)\n",
    "    }else if(n == 0){\n",
    "        1\n",
    "    }else{\n",
    "        1 / pow(x,-n)\n",
    "    }\n",
    "                            \n",
    "}"
   ]
  },
  {
   "cell_type": "code",
   "execution_count": 88,
   "metadata": {
    "collapsed": false
   },
   "outputs": [
    {
     "data": {
      "text/plain": [
       "\u001b[36mres87\u001b[0m: \u001b[32mDouble\u001b[0m = \u001b[32m9.0\u001b[0m"
      ]
     },
     "metadata": {},
     "output_type": "display_data"
    }
   ],
   "source": [
    "pow(-3,2)"
   ]
  },
  {
   "cell_type": "code",
   "execution_count": 90,
   "metadata": {
    "collapsed": false
   },
   "outputs": [
    {
     "data": {
      "text/plain": [
       "\u001b[36mres89\u001b[0m: \u001b[32mDouble\u001b[0m = \u001b[32m100.0\u001b[0m"
      ]
     },
     "metadata": {},
     "output_type": "display_data"
    }
   ],
   "source": [
    "pow(10,2)"
   ]
  },
  {
   "cell_type": "markdown",
   "metadata": {},
   "source": [
    "#  끝 ><"
   ]
  }
 ],
 "metadata": {
  "anaconda-cloud": {},
  "kernelspec": {
   "display_name": "Scala 2.11",
   "language": "scala211",
   "name": "scala211"
  },
  "language_info": {
   "codemirror_mode": "text/x-scala",
   "file_extension": ".scala",
   "mimetype": "text/x-scala",
   "name": "scala211",
   "pygments_lexer": "scala",
   "version": "2.11.8"
  }
 },
 "nbformat": 4,
 "nbformat_minor": 0
}
