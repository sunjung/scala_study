{
 "cells": [
  {
   "cell_type": "markdown",
   "metadata": {},
   "source": [
    "### 연습문제\n"
   ]
  },
  {
   "cell_type": "code",
   "execution_count": 7,
   "metadata": {
    "collapsed": false
   },
   "outputs": [
    {
     "data": {
      "text/plain": [
       "defined \u001b[32mfunction \u001b[36msignum\u001b[0m\n",
       "\u001b[36mres6_1\u001b[0m: \u001b[32mInt\u001b[0m = \u001b[32m0\u001b[0m\n",
       "\u001b[36mres6_2\u001b[0m: \u001b[32mInt\u001b[0m = \u001b[32m-1\u001b[0m\n",
       "\u001b[36mres6_3\u001b[0m: \u001b[32mInt\u001b[0m = \u001b[32m1\u001b[0m"
      ]
     },
     "metadata": {},
     "output_type": "display_data"
    }
   ],
   "source": [
    "//1\n",
    "def signum(x:Int) = if(x>0) 1 else if(x<0) -1 else x\n",
    "signum(0);signum(-2);signum(32)"
   ]
  },
  {
   "cell_type": "code",
   "execution_count": null,
   "metadata": {
    "collapsed": true
   },
   "outputs": [],
   "source": [
    "//2\n",
    "Unit 값없음이라는 값이다."
   ]
  },
  {
   "cell_type": "code",
   "execution_count": 12,
   "metadata": {
    "collapsed": false
   },
   "outputs": [
    {
     "ename": "",
     "evalue": "",
     "output_type": "error",
     "traceback": [
      "\u001b[31mMain.scala:24: not found: value x",
      "x=y=1",
      "^\u001b[0m",
      "\u001b[31mMain.scala:27: not found: value x",
      "x={}",
      "^\u001b[0m"
     ]
    }
   ],
   "source": [
    "//3\n",
    "x=y=1    \n",
    "x={}"
   ]
  },
  {
   "cell_type": "markdown",
   "metadata": {},
   "source": [
    "//4\n",
    "for(i<-10 to (1,-1)) println(i)"
   ]
  },
  {
   "cell_type": "code",
   "execution_count": 16,
   "metadata": {
    "collapsed": false
   },
   "outputs": [
    {
     "name": "stdout",
     "output_type": "stream",
     "text": [
      "543210"
     ]
    },
    {
     "data": {
      "text/plain": [
       "defined \u001b[32mfunction \u001b[36mcountdown\u001b[0m"
      ]
     },
     "metadata": {},
     "output_type": "display_data"
    }
   ],
   "source": [
    "//5\n",
    "def countdown(n: Int) {for(i<-n to (0,-1))print(i)}\n",
    "countdown(5)"
   ]
  },
  {
   "cell_type": "code",
   "execution_count": 22,
   "metadata": {
    "collapsed": false
   },
   "outputs": [
    {
     "data": {
      "text/plain": [
       "\u001b[36mr\u001b[0m: \u001b[32mLong\u001b[0m = \u001b[32m9415087488L\u001b[0m"
      ]
     },
     "metadata": {},
     "output_type": "display_data"
    }
   ],
   "source": [
    "//6\n",
    "var r = 1L\n",
    "for(ch<-\"Hello\") r*=ch.toLong"
   ]
  },
  {
   "cell_type": "code",
   "execution_count": 26,
   "metadata": {
    "collapsed": false
   },
   "outputs": [
    {
     "data": {
      "text/plain": [
       "\u001b[36mres25\u001b[0m: \u001b[32mLong\u001b[0m = \u001b[32m9415087488L\u001b[0m"
      ]
     },
     "metadata": {},
     "output_type": "display_data"
    }
   ],
   "source": [
    "//7\n",
    "\"Hello\".map(_.toLong).product"
   ]
  },
  {
   "cell_type": "code",
   "execution_count": 28,
   "metadata": {
    "collapsed": false
   },
   "outputs": [
    {
     "data": {
      "text/plain": [
       "defined \u001b[32mfunction \u001b[36mproduct\u001b[0m\n",
       "\u001b[36mres27_1\u001b[0m: \u001b[32mLong\u001b[0m = \u001b[32m9415087488L\u001b[0m"
      ]
     },
     "metadata": {},
     "output_type": "display_data"
    }
   ],
   "source": [
    "//8\n",
    "def product(s: String) = s.map(_.toLong).product\n",
    "product(\"Hello\")"
   ]
  },
  {
   "cell_type": "code",
   "execution_count": 31,
   "metadata": {
    "collapsed": false
   },
   "outputs": [
    {
     "data": {
      "text/plain": [
       "defined \u001b[32mfunction \u001b[36mproduct\u001b[0m\n",
       "\u001b[36mres30_1\u001b[0m: \u001b[32mLong\u001b[0m = \u001b[32m9415087488L\u001b[0m"
      ]
     },
     "metadata": {},
     "output_type": "display_data"
    }
   ],
   "source": [
    "//9\n",
    "def product(s: Char*): Long = {\n",
    "    if(s.length==0) 1Lb\n",
    "    else s.head * product(s.tail: _*)\n",
    "}\n",
    "product(\"Hello\".toCharArray: _*)"
   ]
  },
  {
   "cell_type": "markdown",
   "metadata": {},
   "source": [
    "b# "
   ]
  },
  {
   "cell_type": "code",
   "execution_count": 35,
   "metadata": {
    "collapsed": false
   },
   "outputs": [
    {
     "data": {
      "text/plain": [
       "defined \u001b[32mfunction \u001b[36mcalc\u001b[0m\n",
       "\u001b[36mres34_1\u001b[0m: \u001b[32mInt\u001b[0m = \u001b[32m8\u001b[0m"
      ]
     },
     "metadata": {},
     "output_type": "display_data"
    }
   ],
   "source": [
    "//10\n",
    "def calc(x: Int, n: Int) : Int = {\n",
    "    if(n == 0) 1\n",
    "    else if(n>0) {\n",
    "        if(n % 2 == 0 && n>2) calc(calc(x,n/2),2)\n",
    "        else x*calc(x,n-1)\n",
    "    }\n",
    "    else 1/calc(x,-n) \n",
    "}\n",
    "calc(2,3)"
   ]
  }
 ],
 "metadata": {
  "kernelspec": {
   "display_name": "Scala 2.11",
   "language": "scala211",
   "name": "scala211"
  },
  "language_info": {
   "codemirror_mode": "text/x-scala",
   "file_extension": ".scala",
   "mimetype": "text/x-scala",
   "name": "scala211",
   "pygments_lexer": "scala",
   "version": "2.11.8"
  }
 },
 "nbformat": 4,
 "nbformat_minor": 0
}
